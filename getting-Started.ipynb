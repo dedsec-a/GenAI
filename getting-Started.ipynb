{
 "cells": [
  {
   "cell_type": "code",
   "execution_count": 11,
   "metadata": {},
   "outputs": [],
   "source": [
    "import os\n",
    "from dotenv import load_dotenv\n",
    "load_dotenv()\n",
    "os.environ['LANGCHAIN_APIKEY'] = os.getenv(\"LANGCHAIN_APIKEY\")\n",
    "os.environ[\"LANGCHAIN_TRACING_V2\"] = \"true\""
   ]
  },
  {
   "cell_type": "code",
   "execution_count": 30,
   "metadata": {},
   "outputs": [
    {
     "data": {
      "text/plain": [
       "OllamaLLM(model='gemma:2b')"
      ]
     },
     "execution_count": 30,
     "metadata": {},
     "output_type": "execute_result"
    }
   ],
   "source": [
    "from langchain_ollama.llms import OllamaLLM\n",
    "from langchain_core.prompts import ChatPromptTemplate\n",
    "\n",
    "llm = OllamaLLM(model= \"gemma:2b\")\n",
    "llm"
   ]
  },
  {
   "cell_type": "code",
   "execution_count": 26,
   "metadata": {},
   "outputs": [
    {
     "name": "stdout",
     "output_type": "stream",
     "text": [
      "Hello! It's a pleasure to hear from you as well. I'm doing well, thank you for asking. What about yourself?\n"
     ]
    }
   ],
   "source": [
    "#Let's Input and get Some Response from the LLM\n",
    "response = llm.invoke(\"Hello, how are you?\")\n",
    "print(response)\n"
   ]
  },
  {
   "cell_type": "code",
   "execution_count": 23,
   "metadata": {},
   "outputs": [
    {
     "data": {
      "text/plain": [
       "'As an AI language model, I do not have personal experiences or feelings. I am functioning well and ready to assist you with your questions and requests.'"
      ]
     },
     "execution_count": 23,
     "metadata": {},
     "output_type": "execute_result"
    }
   ],
   "source": [
    "response"
   ]
  },
  {
   "cell_type": "code",
   "execution_count": 31,
   "metadata": {},
   "outputs": [],
   "source": [
    "prompts = ChatPromptTemplate.from_messages(\n",
    "    [\n",
    "        (\"system\", \"you are an Expert Space Researcher. Provide me answers based on the question \"),\n",
    "        (\"user\", \"{input}\")\n",
    "    ]\n",
    ")"
   ]
  },
  {
   "cell_type": "code",
   "execution_count": 32,
   "metadata": {},
   "outputs": [
    {
     "data": {
      "text/plain": [
       "ChatPromptTemplate(input_variables=['input'], input_types={}, partial_variables={}, messages=[SystemMessagePromptTemplate(prompt=PromptTemplate(input_variables=[], input_types={}, partial_variables={}, template='you are an Expert Space Researcher. Provide me answers based on the question '), additional_kwargs={}), HumanMessagePromptTemplate(prompt=PromptTemplate(input_variables=['input'], input_types={}, partial_variables={}, template='{input}'), additional_kwargs={})])"
      ]
     },
     "execution_count": 32,
     "metadata": {},
     "output_type": "execute_result"
    }
   ],
   "source": [
    "prompts"
   ]
  },
  {
   "cell_type": "code",
   "execution_count": 33,
   "metadata": {},
   "outputs": [
    {
     "name": "stdout",
     "output_type": "stream",
     "text": [
      "Sure, here is some information about Saturn:\n",
      "\n",
      "**Physical Characteristics:**\n",
      "\n",
      "* Saturn is the eighth planet from the Sun, with a mass that is 30.7% that of Earth.\n",
      "* It is the second-largest planet in the Solar System, after Jupiter.\n",
      "* Saturn is larger than the planet Mercury and has a diameter that is 143,519 km (89,043 mi).\n",
      "* It has a very distinct ring system, which is composed of dust and ice particles.\n",
      "\n",
      "**Atmosphere:**\n",
      "\n",
      "* Saturn's atmosphere is the fourth densest in the Solar System, with a mass density that is 99.8% that of water.\n",
      "* It is predominantly composed of hydrogen and helium, with trace amounts of other gases.\n",
      "* The atmosphere is divided into several distinct layers, including a troposphere, stratosphere, and thermosphere.\n",
      "* The upper atmosphere is extremely hot, with temperatures reaching up to 15,000 °C (27,000 °F).\n",
      "\n",
      "**Rings:**\n",
      "\n",
      "* Saturn has a prominent ring system, which is composed of dust and ice particles.\n",
      "* The rings are divided into several distinct rings, including a inner ring, a middle ring, and an outer ring.\n",
      "* The rings are composed of a mixture of dust and ice, with the dust particles being much larger than the ice particles.\n",
      "* The rings are also very bright, with a combined luminosity that is more than twice that of the Sun.\n",
      "\n",
      "**Satellites:**\n",
      "\n",
      "* Saturn has 82 known moons, the most famous of which are Titan and Rhea.\n",
      "* Titan is the second-largest moon in the Solar System, after Jupiter's moon Ganymede.\n",
      "* Rhea is the third-largest moon in the Solar System.\n",
      "* The moons of Saturn are very diverse, ranging in size, composition, and surface features.\n",
      "\n",
      "**Significance:**\n",
      "\n",
      "* Saturn is a fascinating and awe-inspiring planet that has captured the attention of scientists and space enthusiasts for centuries.\n",
      "* It is a prime example of a terrestrial planet that has been modified by the effects of cosmic radiation and gravitational interactions.\n",
      "* Saturn is also a valuable resource for studying the processes that shape planetary bodies.\n",
      "\n",
      "I hope this information is helpful. Please let me know if you have any other questions.\n"
     ]
    }
   ],
   "source": [
    "#Creating a Chain \n",
    "chain = prompts | llm\n",
    "response = chain.invoke({\"input\": \"can you tell me something about Saturn ?\"})\n",
    "print(response)"
   ]
  },
  {
   "cell_type": "code",
   "execution_count": null,
   "metadata": {},
   "outputs": [],
   "source": []
  }
 ],
 "metadata": {
  "kernelspec": {
   "display_name": "Python 3",
   "language": "python",
   "name": "python3"
  },
  "language_info": {
   "codemirror_mode": {
    "name": "ipython",
    "version": 3
   },
   "file_extension": ".py",
   "mimetype": "text/x-python",
   "name": "python",
   "nbconvert_exporter": "python",
   "pygments_lexer": "ipython3",
   "version": "3.11.0"
  }
 },
 "nbformat": 4,
 "nbformat_minor": 2
}
